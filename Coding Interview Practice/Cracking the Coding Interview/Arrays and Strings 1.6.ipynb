{
 "cells": [
  {
   "cell_type": "raw",
   "metadata": {},
   "source": [
    "String Compression: Implement a method to perform basic string compression using the counts\n",
    "of repeated characters. For example, the string aabcccccaaa would become a2blc5a3. If the\n",
    "\"compressed\" string would not become smaller than the original string, your method should return\n",
    "the original string. You can assume the string has only uppercase and lowercase letters (a - z)."
   ]
  },
  {
   "cell_type": "code",
   "execution_count": 35,
   "metadata": {},
   "outputs": [
    {
     "name": "stdout",
     "output_type": "stream",
     "text": [
      "aabbcc\n",
      "aabbcc\n",
      "aabbcc\n",
      "aabbcc\n",
      "aabbcc\n",
      "aabbcc\n"
     ]
    },
    {
     "data": {
      "text/plain": [
       "''"
      ]
     },
     "execution_count": 35,
     "metadata": {},
     "output_type": "execute_result"
    }
   ],
   "source": [
    "def stringCompression(s):\n",
    "    newString = \"\"\n",
    "    glbCnt = 0\n",
    "    tmpChar = ''\n",
    "    for i, each in enumerate(s):\n",
    "#         print(i, each)\n",
    "        print(s[:])\n",
    "        \n",
    "        \n",
    "        pass\n",
    "#         print(each.next())\n",
    "#         if (each != tmpChar):\n",
    "#             newString += tmpChar + str(glbCnt)\n",
    "#             glbCnt = 0\n",
    "#         tmpChar = each\n",
    "#         glbCnt += 1\n",
    "        \n",
    "    return newString \n",
    "    \n",
    "    \n",
    "stringCompression('aabbcc')\n",
    "\n",
    "\n",
    "\n",
    "\n",
    "\n",
    "\n",
    "\n",
    "\n",
    "\n"
   ]
  },
  {
   "cell_type": "code",
   "execution_count": 14,
   "metadata": {},
   "outputs": [
    {
     "name": "stdout",
     "output_type": "stream",
     "text": [
      "{'a': 2, 'b': 1, 'c': 3, 'C': 1}\n",
      "dict_keys(['a', 'b', 'c', 'C'])\n",
      "4\n"
     ]
    }
   ],
   "source": [
    "class StringCompression:\n",
    "    def __init__(self, s):\n",
    "        self.s = s\n",
    "    \n",
    "    def stringCompression(self):\n",
    "        \n",
    "        \n",
    "        \n",
    "        \n",
    "        \n",
    "        \n",
    "        ht = {}\n",
    "        \n",
    "        for each in self.s:\n",
    "            if (ht.get(each) == None):\n",
    "                ht[each] = 1\n",
    "            else:\n",
    "                ht[each] += 1\n",
    "        \n",
    "        newString = \"\"\n",
    "        \n",
    "        \n",
    "        \n",
    "        \n",
    "        \n",
    "#         make new string compare lengths\n",
    "#         I need to account for if there were double digits number of same inputs\n",
    "        if(len(ht.keys())*2 >len() )\n",
    "                \n",
    "                \n",
    "                \n",
    "        print (ht)\n",
    "        print(ht.keys())\n",
    "        print(len(ht.keys()))\n",
    "        \n",
    "        pass\n",
    "    \n",
    "    \n",
    "StringCompression('aabcCcc').stringCompression()\n",
    "    \n",
    "    \n",
    "    "
   ]
  }
 ],
 "metadata": {
  "kernelspec": {
   "display_name": "Python 3",
   "language": "python",
   "name": "python3"
  },
  "language_info": {
   "codemirror_mode": {
    "name": "ipython",
    "version": 3
   },
   "file_extension": ".py",
   "mimetype": "text/x-python",
   "name": "python",
   "nbconvert_exporter": "python",
   "pygments_lexer": "ipython3",
   "version": "3.7.0"
  }
 },
 "nbformat": 4,
 "nbformat_minor": 2
}
