{
 "cells": [
  {
   "cell_type": "raw",
   "metadata": {},
   "source": [
    "Is Unique: Implement an algorithm to determine if a string has all unique characters. What if you cannot use additional data structures?"
   ]
  },
  {
   "cell_type": "code",
   "execution_count": 22,
   "metadata": {},
   "outputs": [
    {
     "data": {
      "text/plain": [
       "True"
      ]
     },
     "execution_count": 22,
     "metadata": {},
     "output_type": "execute_result"
    }
   ],
   "source": [
    "# My solution using an array of all the unique characters in the alphabet\n",
    "\n",
    "def uniqueChars(string):\n",
    "    A = ord('A')\n",
    "    Z = ord('Z')\n",
    "    a = ord('a')\n",
    "    z = ord('z')\n",
    "    \n",
    "    alphabet = [0] * 26 * 2\n",
    "\n",
    "    for char in string:\n",
    "        if (alphabet[ord(char)-65] != 0):\n",
    "            return False\n",
    "        else:\n",
    "            alphabet[ord(char)-65] = 1\n",
    "    return True    \n",
    "\n",
    "\n",
    "uniqueChars(\"abc\")    "
   ]
  },
  {
   "cell_type": "code",
   "execution_count": 13,
   "metadata": {},
   "outputs": [
    {
     "name": "stdout",
     "output_type": "stream",
     "text": [
      "{'a': 1, 'b': 1, 'c': 1}\n"
     ]
    },
    {
     "data": {
      "text/plain": [
       "False"
      ]
     },
     "execution_count": 13,
     "metadata": {},
     "output_type": "execute_result"
    }
   ],
   "source": [
    "# My solution using a dictionary\n",
    "\n",
    "def uniqueChars(string):\n",
    "    containsDup = False\n",
    "    dic = {}\n",
    "    \n",
    "    for char in string:\n",
    "        if (dic.get(char) == None):\n",
    "            dic[char] = 1\n",
    "        else:\n",
    "            dic[char] += 1\n",
    "            containsDup = True\n",
    "            \n",
    "    print (dic)\n",
    "    return containsDup\n",
    "    \n",
    "uniqueChars(\"aabc\")"
   ]
  },
  {
   "cell_type": "raw",
   "metadata": {},
   "source": [
    "ascii vs unicode?\n",
    "basically unicode is a superset of ascii where all asciis transfer correctly when read with unicode decoding. However, this is an important question for this problem because if its ascii then, its a set regex of 128 characters and symbols. A string of unicode"
   ]
  }
 ],
 "metadata": {
  "kernelspec": {
   "display_name": "Python 3",
   "language": "python",
   "name": "python3"
  },
  "language_info": {
   "codemirror_mode": {
    "name": "ipython",
    "version": 3
   },
   "file_extension": ".py",
   "mimetype": "text/x-python",
   "name": "python",
   "nbconvert_exporter": "python",
   "pygments_lexer": "ipython3",
   "version": "3.7.0"
  }
 },
 "nbformat": 4,
 "nbformat_minor": 2
}
