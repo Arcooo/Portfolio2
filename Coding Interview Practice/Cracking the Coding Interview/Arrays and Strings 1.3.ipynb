{
 "cells": [
  {
   "cell_type": "raw",
   "metadata": {},
   "source": [
    "URLify: Write a method to replace all spaces in a string with '%20'. You may assume that the string\n",
    "has sufficient space at the end to hold the additional characters, and that you are given the \"true\"\n",
    "length of the string. (Note: if implementing in Java, please use a character array so that you can\n",
    "perform this operation in place.)\n",
    "EXAMPLE\n",
    "Input: \"Mr John Smith \", 13\n",
    "Output: \"Mr%20John%20Smith\""
   ]
  },
  {
   "cell_type": "code",
   "execution_count": 16,
   "metadata": {},
   "outputs": [
    {
     "name": "stdout",
     "output_type": "stream",
     "text": [
      "he%20ll%20o\n"
     ]
    }
   ],
   "source": [
    "def replaceSpaces(string):\n",
    "    sBuilder = \"\"\n",
    "    for char in string:\n",
    "        if(char == ' '):\n",
    "            sBuilder += '%20'\n",
    "        else:\n",
    "            sBuilder += char\n",
    "    return sBuilder        \n",
    "\n",
    "print(replaceSpaces(\"he ll o\"))\n",
    "\n",
    "\n",
    "\n"
   ]
  }
 ],
 "metadata": {
  "kernelspec": {
   "display_name": "Python 3",
   "language": "python",
   "name": "python3"
  },
  "language_info": {
   "codemirror_mode": {
    "name": "ipython",
    "version": 3
   },
   "file_extension": ".py",
   "mimetype": "text/x-python",
   "name": "python",
   "nbconvert_exporter": "python",
   "pygments_lexer": "ipython3",
   "version": "3.7.0"
  }
 },
 "nbformat": 4,
 "nbformat_minor": 2
}
