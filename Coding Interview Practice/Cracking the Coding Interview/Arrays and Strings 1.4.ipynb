{
 "cells": [
  {
   "cell_type": "raw",
   "metadata": {},
   "source": [
    "Palindrome Permutation: Given a string, write a function to check if it is a permutation of\n",
    "a palindrome. A palindrome is a word or phrase that is the same forwards and backwards. A\n",
    "permutation is a rearrangement of letters. The palindrome does not need to be limited to just\n",
    "dictionary words.\n",
    "EXAMPLE\n",
    "Input: Tact Coa\n",
    "Output: True (permutations: \"taco cat'; \"atc o eta·; etc.)"
   ]
  },
  {
   "cell_type": "code",
   "execution_count": 17,
   "metadata": {},
   "outputs": [
    {
     "data": {
      "text/plain": [
       "False"
      ]
     },
     "execution_count": 17,
     "metadata": {},
     "output_type": "execute_result"
    }
   ],
   "source": [
    "def isPermuationOfPalindrome(s):\n",
    "    ht = {}\n",
    "    for char in s:\n",
    "        if (ht.get(char) == None):\n",
    "            ht[char]=1\n",
    "        else:\n",
    "            ht[char]+=1\n",
    "    \n",
    "#     remove spaces from input\n",
    "    numSpaces = ht.pop(' ')\n",
    "    \n",
    "#     Check for how many odd number of chars there are\n",
    "    hasOdd = False\n",
    "    for each in ht.values():\n",
    "        if each%2 == 1:\n",
    "#             if there are more than 1 odd number of characters, it is not a palindrome and return False\n",
    "            if (hasOdd):\n",
    "                return False\n",
    "            hasOdd = True\n",
    "    \n",
    "#     If there is an odd, then check if input without spaces length is even\n",
    "    if (hasOdd):\n",
    "        if((len(s) - numSpaces)%2 == 1):\n",
    "            return True\n",
    "        else:\n",
    "            return False\n",
    "    return True\n",
    "\n",
    "isPermuationOfPalindrome('aaa ccc')    "
   ]
  }
 ],
 "metadata": {
  "kernelspec": {
   "display_name": "Python 3",
   "language": "python",
   "name": "python3"
  },
  "language_info": {
   "codemirror_mode": {
    "name": "ipython",
    "version": 3
   },
   "file_extension": ".py",
   "mimetype": "text/x-python",
   "name": "python",
   "nbconvert_exporter": "python",
   "pygments_lexer": "ipython3",
   "version": "3.7.0"
  }
 },
 "nbformat": 4,
 "nbformat_minor": 2
}
