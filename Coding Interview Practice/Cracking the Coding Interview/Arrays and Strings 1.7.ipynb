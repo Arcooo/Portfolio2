{
 "cells": [
  {
   "cell_type": "raw",
   "metadata": {},
   "source": [
    "Rotate Matrix: Given an image represented by an NxN matrix, where each pixel in the image is 4\n",
    "bytes, write a method to rotate the image by 90 degrees. Can you do this in place?"
   ]
  },
  {
   "cell_type": "code",
   "execution_count": 158,
   "metadata": {},
   "outputs": [
    {
     "data": {
      "text/plain": [
       "[[12, 8, 4, 0], [13, 9, 5, 1], [14, 10, 6, 2], [15, 11, 7, 3]]"
      ]
     },
     "execution_count": 158,
     "metadata": {},
     "output_type": "execute_result"
    }
   ],
   "source": [
    "\n",
    "# function to make a matrix\n",
    "def makeMatrix(l, nxn):\n",
    "    matrix = []\n",
    "    for x in range(0,len(l),nxn):\n",
    "        matrix.append(l[x:x+nxn])\n",
    "    return matrix\n",
    "\n",
    "# call making a matrix\n",
    "matrix = makeMatrix(list(range(16)), 4)\n",
    "\n",
    "def rotateClockwise(matrix):\n",
    "    n = len(matrix)\n",
    "    \n",
    "#     loop to find the number of layers to manipulate\n",
    "#     note that n/2 is lowerbound which is good because e.g. a 2x2 and 3x3 both only have one layer to rotate\n",
    "    for layer in range(int(n/2)):\n",
    "#         finds position of the layer to manipulate\n",
    "        first = layer\n",
    "        last = n - 1 - layer\n",
    "        \n",
    "#         starting positions are the first layer to the last layer\n",
    "        for i in list(range(first, last, 1)):\n",
    "#             offset is an addition to when moving from layer to layer\n",
    "            offset = i - first\n",
    "    \n",
    "            top = matrix[first][i] # save top\n",
    "            matrix[first][i] = matrix[last-offset][first] # left to top\n",
    "            matrix[last-offset][first] = matrix[last][last-offset] #bottom to left\n",
    "            matrix[last][last-offset] = matrix[i][last] # right to bottom\n",
    "            matrix[i][last] = top # top to right\n",
    "    return matrix\n",
    "\n",
    "rotateClockwise(matrix)\n",
    "\n",
    "  "
   ]
  },
  {
   "cell_type": "code",
   "execution_count": 134,
   "metadata": {},
   "outputs": [
    {
     "ename": "SyntaxError",
     "evalue": "invalid syntax (<ipython-input-134-3982a5fbdc75>, line 1)",
     "output_type": "error",
     "traceback": [
      "\u001b[1;36m  File \u001b[1;32m\"<ipython-input-134-3982a5fbdc75>\"\u001b[1;36m, line \u001b[1;32m1\u001b[0m\n\u001b[1;33m    for i = 0 to 5:\u001b[0m\n\u001b[1;37m          ^\u001b[0m\n\u001b[1;31mSyntaxError\u001b[0m\u001b[1;31m:\u001b[0m invalid syntax\n"
     ]
    }
   ],
   "source": [
    "\n",
    "\n",
    "\n",
    "# function to rotate 90 clockwise\n",
    "def rotate90degreesClockwise(matrix):\n",
    "    if (len(matrix)==0 or len(matrix) != len(matrix[0])): return False\n",
    "    numOfSwaps = n / 2  # rounded down when n is odd\n",
    "\n",
    "    def swap(matrix, layer):\n",
    "        n = len(matrix) - 1\n",
    "        print (\"hi\", len(matrix))\n",
    "        for i in range(len(matrix) - ((layer-1) * 2)):\n",
    "            print (i)\n",
    "#             temp = matrix[0][i]\n",
    "#             print(temp)\n",
    "#             matrix[0][i] = matrix[n-i][0]\n",
    "#             matrix[n-i][0] = matrix[n][n-i]\n",
    "#             matrix[n-i][n] = matrix[0+i][n]\n",
    "#             matrix[0+i][n] = temp\n",
    "#             print(i)\n",
    "            \n",
    "        print(matrix)\n",
    "    swap(matrix, 1)    \n",
    "    \n",
    "    for i in range(n):\n",
    "        pass\n",
    "\n",
    "# print(matrix)\n",
    "# rotate90degreesClockwise(matrix)   \n",
    "    \n",
    "    \n",
    "#     layer = 0\n",
    "#     print(list(range(10)))\n",
    "#     for i in range(0, layer < n/2, 1):\n",
    "#         print (i)\n",
    "#         print(layer)\n",
    "        \n",
    "#         layer+=1\n",
    "    \n",
    "#     def swap(matrix, lenN):\n",
    "#         for i in range(lenN):\n",
    "#             temp = matrix[0][0]\n",
    "#             matrix[0][0] = matrix[0][lenN]\n",
    "            \n",
    "#             print (temp)\n",
    "#     swap(matrix, n)"
   ]
  }
 ],
 "metadata": {
  "kernelspec": {
   "display_name": "Python 3",
   "language": "python",
   "name": "python3"
  },
  "language_info": {
   "codemirror_mode": {
    "name": "ipython",
    "version": 3
   },
   "file_extension": ".py",
   "mimetype": "text/x-python",
   "name": "python",
   "nbconvert_exporter": "python",
   "pygments_lexer": "ipython3",
   "version": "3.7.0"
  }
 },
 "nbformat": 4,
 "nbformat_minor": 2
}
