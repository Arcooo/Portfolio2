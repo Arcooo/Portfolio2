{
 "cells": [
  {
   "cell_type": "raw",
   "metadata": {},
   "source": [
    "Zero Matrix: Write an algorithm such that if an element in an MxN matrix is 0, its entire row and\n",
    "column are set to 0."
   ]
  },
  {
   "cell_type": "code",
   "execution_count": 57,
   "metadata": {},
   "outputs": [
    {
     "data": {
      "text/plain": [
       "[[1, 0], [3, 0], [4, 0], [0, 0], [1, 0]]"
      ]
     },
     "execution_count": 57,
     "metadata": {},
     "output_type": "execute_result"
    }
   ],
   "source": [
    "# function to make a matrix\n",
    "def makeMxNMatrix(l, x, y):\n",
    "    matrix = []\n",
    "    for j in range(y):\n",
    "        matrix.append(l[j*x:j*x+x])\n",
    "    return matrix\n",
    "\n",
    "# call making a matrix\n",
    "matrix = makeMxNMatrix([1,2,3,9,4,5,3,0,1,9], 2, 5)\n",
    "\n",
    "def setZeros(matrix):\n",
    "    nlen = len(matrix)\n",
    "    mlen = len(matrix[0])\n",
    "    \n",
    "#     boolMatrix = [[False for x in range(mlen)] for y in range(nlen)] \n",
    "    listOfCoords = []\n",
    "    for i in range(nlen):\n",
    "        for j in range(mlen):\n",
    "            if(matrix[i][j] == 0):\n",
    "                listOfCoords.append([i,j])\n",
    "    \n",
    "    def setRowZero(matrix, row):\n",
    "        for i in range(len(matrix[0])):\n",
    "            matrix[row][i] = 0\n",
    "        return matrix\n",
    "        \n",
    "    def setColZero(matrix, col):\n",
    "        for i in range(len(matrix)):\n",
    "            matrix[i][col] = 0\n",
    "        return matrix\n",
    "    \n",
    "    for each in listOfCoords:\n",
    "        matrix = setRowZero(matrix, each[0])\n",
    "        matrix = setColZero(matrix, each[1])\n",
    "    return matrix\n",
    "\n",
    "setZeros(matrix)"
   ]
  }
 ],
 "metadata": {
  "kernelspec": {
   "display_name": "Python 3",
   "language": "python",
   "name": "python3"
  },
  "language_info": {
   "codemirror_mode": {
    "name": "ipython",
    "version": 3
   },
   "file_extension": ".py",
   "mimetype": "text/x-python",
   "name": "python",
   "nbconvert_exporter": "python",
   "pygments_lexer": "ipython3",
   "version": "3.7.0"
  }
 },
 "nbformat": 4,
 "nbformat_minor": 2
}
