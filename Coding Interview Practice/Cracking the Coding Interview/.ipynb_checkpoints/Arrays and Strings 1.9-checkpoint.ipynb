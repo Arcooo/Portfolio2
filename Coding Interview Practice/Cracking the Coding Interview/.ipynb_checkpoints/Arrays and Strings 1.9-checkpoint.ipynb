{
 "cells": [
  {
   "cell_type": "raw",
   "metadata": {},
   "source": [
    "String Rotation: Assume you have a method i 5Su b 5 tr ing which checks if one word is a substring\n",
    "of another. Given two strings, 51 and 52, write code to check if 52 is a rotation of 51 using only one\n",
    "call to i5Sub5tring (e.g., \"waterbottle\" is a rotation of\" erbottlewat\")."
   ]
  },
  {
   "cell_type": "code",
   "execution_count": 9,
   "metadata": {},
   "outputs": [
    {
     "name": "stdout",
     "output_type": "stream",
     "text": [
      "True\n"
     ]
    }
   ],
   "source": [
    "def isRotation(s1, s2):\n",
    "#     what is the rotation point?\n",
    "    s1len = len(s1)\n",
    "    assert(len(s1) == len(s2) and s1len>0)\n",
    "    \n",
    "    s1s1 = s1 + s1\n",
    "    print(s2 in s1s1)\n",
    "    \n",
    "isRotation('waterbottle', 'terbottlewa') \n",
    "    "
   ]
  }
 ],
 "metadata": {
  "kernelspec": {
   "display_name": "Python 3",
   "language": "python",
   "name": "python3"
  },
  "language_info": {
   "codemirror_mode": {
    "name": "ipython",
    "version": 3
   },
   "file_extension": ".py",
   "mimetype": "text/x-python",
   "name": "python",
   "nbconvert_exporter": "python",
   "pygments_lexer": "ipython3",
   "version": "3.7.0"
  }
 },
 "nbformat": 4,
 "nbformat_minor": 2
}
