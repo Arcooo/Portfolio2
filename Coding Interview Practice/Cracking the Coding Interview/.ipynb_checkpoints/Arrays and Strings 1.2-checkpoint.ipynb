{
 "cells": [
  {
   "cell_type": "raw",
   "metadata": {},
   "source": [
    "Check Permutation: Given two strings, write a method to decide if one is a permutation of the\n",
    "other."
   ]
  },
  {
   "cell_type": "code",
   "execution_count": 8,
   "metadata": {},
   "outputs": [
    {
     "data": {
      "text/plain": [
       "True"
      ]
     },
     "execution_count": 8,
     "metadata": {},
     "output_type": "execute_result"
    }
   ],
   "source": [
    "def checkPermuations(string1, string2):\n",
    "    if (len(string1) != len(string2)):\n",
    "        return False\n",
    "    \n",
    "    if sorted(string1) != sorted(string2):\n",
    "        return False\n",
    "    \n",
    "    return True\n",
    "\n",
    "checkPermuations('abc', 'bac')"
   ]
  }
 ],
 "metadata": {
  "kernelspec": {
   "display_name": "Python 3",
   "language": "python",
   "name": "python3"
  },
  "language_info": {
   "codemirror_mode": {
    "name": "ipython",
    "version": 3
   },
   "file_extension": ".py",
   "mimetype": "text/x-python",
   "name": "python",
   "nbconvert_exporter": "python",
   "pygments_lexer": "ipython3",
   "version": "3.7.0"
  }
 },
 "nbformat": 4,
 "nbformat_minor": 2
}
