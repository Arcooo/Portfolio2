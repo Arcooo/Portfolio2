{
 "cells": [
  {
   "cell_type": "raw",
   "metadata": {},
   "source": [
    "Remove Dups: Write code to remove duplicates from an unsorted linked list.\n",
    "FOLLOW UP\n",
    "How would you solve this problem if a temporary buffer is not allowed?"
   ]
  },
  {
   "cell_type": "code",
   "execution_count": 23,
   "metadata": {},
   "outputs": [
    {
     "name": "stdout",
     "output_type": "stream",
     "text": [
      "0 1\n",
      "1 2\n",
      "2 3\n",
      "3 a\n",
      "4 a\n",
      "5 1\n",
      "6 2\n"
     ]
    },
    {
     "data": {
      "text/plain": [
       "[1, 2, 3, 'a']"
      ]
     },
     "execution_count": 23,
     "metadata": {},
     "output_type": "execute_result"
    }
   ],
   "source": [
    "def removeDup(lst):\n",
    "    ht = {}\n",
    "    nl = []\n",
    "    for i, each in enumerate(lst):\n",
    "        print(i,each)\n",
    "        if(ht.get(each)==None):\n",
    "            ht[each] = True\n",
    "            nl.append(each)\n",
    "    return nl\n",
    "removeDup([1,2,3,'a','a', 1, 2])"
   ]
  },
  {
   "cell_type": "code",
   "execution_count": null,
   "metadata": {},
   "outputs": [],
   "source": [
    "def removeDupNoBuffer(linkedList):\n",
    "    \n",
    "\n",
    "\n",
    "\n",
    "removeDupNoBuffer([1,2,3,'a','a', 1, 2])\n",
    "\n",
    "# im going to need to either build or find a linkedlist class\n",
    "\n",
    "\n",
    "\n",
    "\n",
    "\n",
    "\n",
    "\n",
    "\n",
    "\n",
    "\n",
    "\n",
    "    "
   ]
  }
 ],
 "metadata": {
  "kernelspec": {
   "display_name": "Python 3",
   "language": "python",
   "name": "python3"
  },
  "language_info": {
   "codemirror_mode": {
    "name": "ipython",
    "version": 3
   },
   "file_extension": ".py",
   "mimetype": "text/x-python",
   "name": "python",
   "nbconvert_exporter": "python",
   "pygments_lexer": "ipython3",
   "version": "3.7.0"
  }
 },
 "nbformat": 4,
 "nbformat_minor": 2
}
