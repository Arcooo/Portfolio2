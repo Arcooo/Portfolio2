{
 "cells": [
  {
   "cell_type": "raw",
   "metadata": {},
   "source": [
    "Given a list of numbers with only 3 unique numbers (1,2,3) sort the list in O(n) time\n",
    "\n",
    "Example 1:\n",
    "Input: [3,3,2,1,3,2,1]\n",
    "Output: [1,1,2,2,3,3,3]\n",
    "\n",
    "Challenge: Try sorting the list using constant space"
   ]
  },
  {
   "cell_type": "raw",
   "metadata": {},
   "source": [
    "Notes\n",
    "- only 3 numbers is a special case\n",
    "- O(n) means one pass through\n",
    "\n",
    "I think we could just count each individual number up in the list, compare them and then input that many of those numbers into a new list or just overwrite the old list"
   ]
  },
  {
   "cell_type": "code",
   "execution_count": 89,
   "metadata": {},
   "outputs": [
    {
     "data": {
      "text/plain": [
       "[1, 1, 2, 2, 3, 3, 3]"
      ]
     },
     "execution_count": 89,
     "metadata": {},
     "output_type": "execute_result"
    }
   ],
   "source": [
    "def sortUnique3(ul):\n",
    "    unique_list = []\n",
    "    unique_counts = []\n",
    "    \n",
    "    for x in ul:\n",
    "        if x not in unique_list:\n",
    "            unique_list.append(x)\n",
    "            unique_counts.append(0)\n",
    "            unique_counts[-1] += 1\n",
    "        else:\n",
    "            unique_counts[unique_list.index(x)] += 1\n",
    "    \n",
    "    unique_list, unique_counts = zip(*sorted(zip(unique_list, unique_counts)))\n",
    "    \n",
    "    orderedList = []\n",
    "    for x in (zip(unique_list, unique_counts)):\n",
    "        for cnt in range(x[1]):\n",
    "            orderedList.append(x[0])\n",
    "    \n",
    "    return orderedList\n",
    "    \n",
    "    \n",
    "    \n",
    "ul = [3,3,2,1,3,2,1]\n",
    "sortUnique3(ul)\n",
    "    "
   ]
  },
  {
   "cell_type": "code",
   "execution_count": null,
   "metadata": {},
   "outputs": [],
   "source": []
  },
  {
   "cell_type": "code",
   "execution_count": null,
   "metadata": {},
   "outputs": [],
   "source": [
    "# Explanation of my solution\n"
   ]
  },
  {
   "cell_type": "raw",
   "metadata": {},
   "source": [
    "# Things I brushed up on while coding this problem\n",
    "\n",
    "# Dictionaries or the key word 'dict' have attribute items()\n",
    "d = {2:8, 0:1}\n",
    "print(sorted(d.items()))\n",
    "print(sorted(d.keys()))\n",
    "\n",
    "# zip, *, enumerate\n",
    "use zip to link up lists that are referenced to each other"
   ]
  }
 ],
 "metadata": {
  "kernelspec": {
   "display_name": "Python 3",
   "language": "python",
   "name": "python3"
  },
  "language_info": {
   "codemirror_mode": {
    "name": "ipython",
    "version": 3
   },
   "file_extension": ".py",
   "mimetype": "text/x-python",
   "name": "python",
   "nbconvert_exporter": "python",
   "pygments_lexer": "ipython3",
   "version": "3.7.0"
  }
 },
 "nbformat": 4,
 "nbformat_minor": 2
}
